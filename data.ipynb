{
 "cells": [
  {
   "cell_type": "code",
   "execution_count": 1,
   "id": "71acda84-55cf-4b82-8a96-c573401f22c7",
   "metadata": {},
   "outputs": [],
   "source": [
    "import ccxt\n",
    "import pandas as pd\n",
    "from datetime import datetime, timedelta"
   ]
  },
  {
   "cell_type": "code",
   "execution_count": 2,
   "id": "a60d2c03-a2da-494f-9398-2cefce377f61",
   "metadata": {},
   "outputs": [],
   "source": [
    "# bybitのAPIに接続\n",
    "exchange = ccxt.bybit()"
   ]
  },
  {
   "cell_type": "code",
   "execution_count": 5,
   "id": "ec7d65f5-5b1d-4bc4-a4f7-e4680458673b",
   "metadata": {},
   "outputs": [],
   "source": [
    "# 開始日時と終了日時を指定（ここでは例として2022年1月1日から2022年12月31日までを指定）\n",
    "symbol = 'BTCUSDT'\n",
    "start_date = datetime(2024, 5, 1)\n",
    "end_date = datetime(2024, 5, 31)\n",
    "start_timestamp = int(start_date.timestamp() * 1000)\n",
    "end_timestamp = int(end_date.timestamp() * 1000)\n",
    "\n",
    "data = []"
   ]
  },
  {
   "cell_type": "code",
   "execution_count": 6,
   "id": "55a64e9d-4756-4192-b93b-4677a58a51f9",
   "metadata": {},
   "outputs": [
    {
     "name": "stdout",
     "output_type": "stream",
     "text": [
      "            Timestamp     Open     High      Low    Close   Volume\n",
      "0 2024-04-30 15:00:00  61211.5  61286.2  61195.5  61235.5  168.199\n",
      "1 2024-04-30 15:01:00  61235.5  61299.0  61212.4  61278.1   75.211\n",
      "2 2024-04-30 15:02:00  61278.1  61323.2  61260.0  61302.8  138.992\n",
      "3 2024-04-30 15:03:00  61302.8  61365.0  61300.4  61320.6   95.777\n",
      "4 2024-04-30 15:04:00  61320.6  61325.0  61282.0  61291.3   63.938\n"
     ]
    }
   ],
   "source": [
    "while start_timestamp < end_timestamp:\n",
    "    try:\n",
    "        new_data = exchange.fetch_ohlcv(symbol, timeframe='1m', since=start_timestamp, limit=1000)\n",
    "        if new_data:\n",
    "            start_timestamp = new_data[-1][0] + 1\n",
    "            data += new_data\n",
    "        else:\n",
    "            break\n",
    "    except Exception as e:\n",
    "        print(f\"An error occurred: {e}\")\n",
    "        break\n",
    "\n",
    "# データをDataFrameに変換\n",
    "df = pd.DataFrame(data, columns=['Timestamp', 'Open', 'High', 'Low', 'Close', 'Volume'])\n",
    "df['Timestamp'] = pd.to_datetime(df['Timestamp'], unit='ms')\n",
    "\n",
    "print(df.head())"
   ]
  },
  {
   "cell_type": "code",
   "execution_count": 11,
   "id": "2791a394-7a87-4866-9911-c967edc91b50",
   "metadata": {},
   "outputs": [],
   "source": [
    "filename = 'bybit_' + symbol + '_' + start_date.strftime('%Y%m%d') + '_' + end_date.strftime('%Y%m%d') + '.csv'\n",
    "df.to_csv(filename)"
   ]
  },
  {
   "cell_type": "code",
   "execution_count": null,
   "id": "103ee644-39dc-4425-8120-cf01a453d081",
   "metadata": {},
   "outputs": [],
   "source": []
  }
 ],
 "metadata": {
  "kernelspec": {
   "display_name": "Python 3 (ipykernel)",
   "language": "python",
   "name": "python3"
  },
  "language_info": {
   "codemirror_mode": {
    "name": "ipython",
    "version": 3
   },
   "file_extension": ".py",
   "mimetype": "text/x-python",
   "name": "python",
   "nbconvert_exporter": "python",
   "pygments_lexer": "ipython3",
   "version": "3.8.13"
  }
 },
 "nbformat": 4,
 "nbformat_minor": 5
}
