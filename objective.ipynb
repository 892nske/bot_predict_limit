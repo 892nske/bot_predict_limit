{
 "cells": [
  {
   "cell_type": "code",
   "execution_count": 1,
   "id": "df51bd29-54ec-4870-99db-27a8218bb4e4",
   "metadata": {},
   "outputs": [],
   "source": [
    "import pandas as pd"
   ]
  },
  {
   "cell_type": "code",
   "execution_count": 36,
   "id": "ce4a30c5-c598-4427-be76-bf3638f976cf",
   "metadata": {},
   "outputs": [],
   "source": [
    "df = pd.read_csv('bybit_BTCUSDT_20240501_20240531.csv', index_col=0)"
   ]
  },
  {
   "cell_type": "code",
   "execution_count": 37,
   "id": "d1204633-2f26-43e3-a218-8a29c1f14467",
   "metadata": {},
   "outputs": [],
   "source": [
    "# 次の5分間の最高値と最安値を計算する関数\n",
    "def calculate_high_low(df, window=5):\n",
    "    df['future_high'] = df['High'].rolling(window=window, min_periods=1).max().shift(-window)\n",
    "    df['future_low'] = df['Low'].rolling(window=window, min_periods=1).min().shift(-window)\n",
    "    return df\n"
   ]
  },
  {
   "cell_type": "code",
   "execution_count": 38,
   "id": "b97f2cc7-e6ea-4897-858c-fd1368ca9be8",
   "metadata": {},
   "outputs": [],
   "source": [
    "df = calculate_high_low(df)"
   ]
  },
  {
   "cell_type": "code",
   "execution_count": 39,
   "id": "6e3820eb-767f-4d43-b10d-6e74b8ebda82",
   "metadata": {},
   "outputs": [],
   "source": [
    "# 各時刻の終値と比較し、価格が離れている方を新たな列として追加する関数\n",
    "def add_most_significant_future_price(df):\n",
    "    df['most_significant_future_price'] = df.apply(\n",
    "        lambda row: row['future_high'] if abs(row['future_high'] - row['Close']) > abs(row['future_low'] - row['Close']) else row['future_low'],\n",
    "        axis=1\n",
    "    )\n",
    "    return df"
   ]
  },
  {
   "cell_type": "code",
   "execution_count": 40,
   "id": "80d3508e-aed1-445d-a70f-baca2e0f8ede",
   "metadata": {},
   "outputs": [],
   "source": [
    "df = add_most_significant_future_price(df)"
   ]
  },
  {
   "cell_type": "code",
   "execution_count": 41,
   "id": "45832f26-7163-4205-a25e-d15f3f3bbb3c",
   "metadata": {},
   "outputs": [],
   "source": [
    "def add_intervening_extreme_prices(df,window=5):\n",
    "    df['intervening_extreme_price'] = None\n",
    "    for i in range(len(df)-window):\n",
    "        row = df.iloc[i]\n",
    "        minidata = df[i:i+window+1]\n",
    "        minidata.reset_index(inplace=True, drop=True)\n",
    "        if row['most_significant_future_price'] == row['future_high']:\n",
    "            target = minidata.index[minidata['High'] == row['future_high']].tolist()[0]\n",
    "            target_df = minidata[1:target]\n",
    "            intervening_low = target_df['Low'].min()\n",
    "            df.at[i, 'intervening_extreme_price'] = intervening_low\n",
    "        else:\n",
    "            target = minidata.index[minidata['Low'] == row['future_low']].tolist()[0]\n",
    "            target_df = minidata[1:target]\n",
    "            intervening_high = target_df['High'].max()\n",
    "            df.at[i, 'intervening_extreme_price'] = intervening_high\n",
    "    return df"
   ]
  },
  {
   "cell_type": "code",
   "execution_count": 42,
   "id": "4586b9a1-f6e1-4896-a49f-887b4e987eed",
   "metadata": {},
   "outputs": [],
   "source": [
    "df = add_intervening_extreme_prices(df,5)"
   ]
  },
  {
   "cell_type": "code",
   "execution_count": 43,
   "id": "f5118077-8e86-4954-bf4b-7814f901328a",
   "metadata": {},
   "outputs": [],
   "source": [
    "df.to_csv('df.csv')"
   ]
  },
  {
   "cell_type": "code",
   "execution_count": null,
   "id": "cf19e550-9809-4576-a471-ea25bba22c46",
   "metadata": {},
   "outputs": [],
   "source": []
  }
 ],
 "metadata": {
  "kernelspec": {
   "display_name": "Python 3 (ipykernel)",
   "language": "python",
   "name": "python3"
  },
  "language_info": {
   "codemirror_mode": {
    "name": "ipython",
    "version": 3
   },
   "file_extension": ".py",
   "mimetype": "text/x-python",
   "name": "python",
   "nbconvert_exporter": "python",
   "pygments_lexer": "ipython3",
   "version": "3.8.13"
  }
 },
 "nbformat": 4,
 "nbformat_minor": 5
}
